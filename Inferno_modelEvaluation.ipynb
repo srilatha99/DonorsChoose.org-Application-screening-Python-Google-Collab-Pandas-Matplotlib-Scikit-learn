{
 "cells": [
  {
   "cell_type": "code",
   "execution_count": 1,
   "id": "c88d2e6c",
   "metadata": {},
   "outputs": [],
   "source": [
    "import warnings\n",
    "warnings.filterwarnings(\"ignore\")\n",
    "from sklearn.preprocessing import OrdinalEncoder\n",
    "import pandas as pd\n",
    "import numpy as np\n",
    "import matplotlib.pyplot as p\n",
    "from sklearn import datasets\n",
    "from sklearn.feature_selection import chi2\n",
    "from sklearn.feature_selection import SelectKBest\n",
    "from sklearn.ensemble import ExtraTreesClassifier\n",
    "from sklearn.datasets import make_classification\n",
    "from sklearn.model_selection import train_test_split\n",
    "from sklearn.naive_bayes import GaussianNB\n",
    "from sklearn.preprocessing import OrdinalEncoder\n",
    "from sklearn.metrics import accuracy_score\n",
    "from sklearn.metrics import confusion_matrix\n",
    "import seaborn as sns\n",
    "from sklearn.pipeline import Pipeline\n",
    "import matplotlib.pyplot as plt\n",
    "from sklearn.linear_model import LogisticRegression\n",
    "from sklearn.metrics import classification_report"
   ]
  },
  {
   "cell_type": "code",
   "execution_count": 2,
   "id": "93decbb9",
   "metadata": {},
   "outputs": [
    {
     "data": {
      "text/html": [
       "<div>\n",
       "<style scoped>\n",
       "    .dataframe tbody tr th:only-of-type {\n",
       "        vertical-align: middle;\n",
       "    }\n",
       "\n",
       "    .dataframe tbody tr th {\n",
       "        vertical-align: top;\n",
       "    }\n",
       "\n",
       "    .dataframe thead th {\n",
       "        text-align: right;\n",
       "    }\n",
       "</style>\n",
       "<table border=\"1\" class=\"dataframe\">\n",
       "  <thead>\n",
       "    <tr style=\"text-align: right;\">\n",
       "      <th></th>\n",
       "      <th>id</th>\n",
       "      <th>teacher_id</th>\n",
       "      <th>teacher_prefix</th>\n",
       "      <th>school_state</th>\n",
       "      <th>project_submitted_datetime</th>\n",
       "      <th>project_grade_category</th>\n",
       "      <th>project_subject_categories</th>\n",
       "      <th>project_subject_subcategories</th>\n",
       "      <th>project_title</th>\n",
       "      <th>project_resource_summary</th>\n",
       "      <th>teacher_number_of_previously_posted_projects</th>\n",
       "      <th>price</th>\n",
       "      <th>quantity</th>\n",
       "      <th>essay</th>\n",
       "    </tr>\n",
       "  </thead>\n",
       "  <tbody>\n",
       "    <tr>\n",
       "      <th>0</th>\n",
       "      <td>p253737</td>\n",
       "      <td>c90749f5d961ff158d4b4d1e7dc665fc</td>\n",
       "      <td>mrs</td>\n",
       "      <td>in</td>\n",
       "      <td>12/5/2016 13:43</td>\n",
       "      <td>grades_prek_2</td>\n",
       "      <td>literacy_language</td>\n",
       "      <td>esl_literacy</td>\n",
       "      <td>Educational Support for English Learners at Home</td>\n",
       "      <td>My students need opportunities to practice beg...</td>\n",
       "      <td>0.000000</td>\n",
       "      <td>0.015397</td>\n",
       "      <td>0.023681</td>\n",
       "      <td>students english learners working english seco...</td>\n",
       "    </tr>\n",
       "    <tr>\n",
       "      <th>1</th>\n",
       "      <td>p258326</td>\n",
       "      <td>897464ce9ddc600bced1151f324dd63a</td>\n",
       "      <td>mr</td>\n",
       "      <td>fl</td>\n",
       "      <td>10/25/2016 9:22</td>\n",
       "      <td>grades_6_8</td>\n",
       "      <td>history_civics_health_sports</td>\n",
       "      <td>civics_government_teamsports</td>\n",
       "      <td>Wanted: Projector for Hungry Learners</td>\n",
       "      <td>My students need a projector to help with view...</td>\n",
       "      <td>0.016355</td>\n",
       "      <td>0.029839</td>\n",
       "      <td>0.000000</td>\n",
       "      <td>students arrive school eager learn polite gene...</td>\n",
       "    </tr>\n",
       "    <tr>\n",
       "      <th>2</th>\n",
       "      <td>p182444</td>\n",
       "      <td>3465aaf82da834c0582ebd0ef8040ca0</td>\n",
       "      <td>ms</td>\n",
       "      <td>az</td>\n",
       "      <td>8/31/2016 12:03</td>\n",
       "      <td>grades_6_8</td>\n",
       "      <td>health_sports</td>\n",
       "      <td>health_wellness_teamsports</td>\n",
       "      <td>Soccer Equipment for AWESOME Middle School Stu...</td>\n",
       "      <td>My students need shine guards, athletic socks,...</td>\n",
       "      <td>0.002336</td>\n",
       "      <td>0.051628</td>\n",
       "      <td>0.022605</td>\n",
       "      <td>true champions not always ones win guts mia ha...</td>\n",
       "    </tr>\n",
       "    <tr>\n",
       "      <th>3</th>\n",
       "      <td>p246581</td>\n",
       "      <td>f3cb9bffbba169bef1a77b243e620b60</td>\n",
       "      <td>mrs</td>\n",
       "      <td>ky</td>\n",
       "      <td>10/6/2016 21:16</td>\n",
       "      <td>grades_prek_2</td>\n",
       "      <td>literacy_language_math_science</td>\n",
       "      <td>literacy_mathematics</td>\n",
       "      <td>Techie Kindergarteners</td>\n",
       "      <td>My students need to engage in Reading and Math...</td>\n",
       "      <td>0.009346</td>\n",
       "      <td>0.023228</td>\n",
       "      <td>0.003229</td>\n",
       "      <td>work unique school filled esl english second l...</td>\n",
       "    </tr>\n",
       "    <tr>\n",
       "      <th>4</th>\n",
       "      <td>p104768</td>\n",
       "      <td>be1f7507a41f8479dc06f047086a39ec</td>\n",
       "      <td>mrs</td>\n",
       "      <td>tx</td>\n",
       "      <td>7/11/2016 1:10</td>\n",
       "      <td>grades_prek_2</td>\n",
       "      <td>math_science</td>\n",
       "      <td>mathematics</td>\n",
       "      <td>Interactive Math Tools</td>\n",
       "      <td>My students need hands on practice in mathemat...</td>\n",
       "      <td>0.002336</td>\n",
       "      <td>0.006733</td>\n",
       "      <td>0.003229</td>\n",
       "      <td>second grade classroom next year made around 2...</td>\n",
       "    </tr>\n",
       "  </tbody>\n",
       "</table>\n",
       "</div>"
      ],
      "text/plain": [
       "        id                        teacher_id teacher_prefix school_state  \\\n",
       "0  p253737  c90749f5d961ff158d4b4d1e7dc665fc            mrs           in   \n",
       "1  p258326  897464ce9ddc600bced1151f324dd63a             mr           fl   \n",
       "2  p182444  3465aaf82da834c0582ebd0ef8040ca0             ms           az   \n",
       "3  p246581  f3cb9bffbba169bef1a77b243e620b60            mrs           ky   \n",
       "4  p104768  be1f7507a41f8479dc06f047086a39ec            mrs           tx   \n",
       "\n",
       "  project_submitted_datetime project_grade_category  \\\n",
       "0            12/5/2016 13:43          grades_prek_2   \n",
       "1            10/25/2016 9:22             grades_6_8   \n",
       "2            8/31/2016 12:03             grades_6_8   \n",
       "3            10/6/2016 21:16          grades_prek_2   \n",
       "4             7/11/2016 1:10          grades_prek_2   \n",
       "\n",
       "       project_subject_categories project_subject_subcategories  \\\n",
       "0               literacy_language                  esl_literacy   \n",
       "1    history_civics_health_sports  civics_government_teamsports   \n",
       "2                   health_sports    health_wellness_teamsports   \n",
       "3  literacy_language_math_science          literacy_mathematics   \n",
       "4                    math_science                   mathematics   \n",
       "\n",
       "                                       project_title  \\\n",
       "0   Educational Support for English Learners at Home   \n",
       "1              Wanted: Projector for Hungry Learners   \n",
       "2  Soccer Equipment for AWESOME Middle School Stu...   \n",
       "3                             Techie Kindergarteners   \n",
       "4                             Interactive Math Tools   \n",
       "\n",
       "                            project_resource_summary  \\\n",
       "0  My students need opportunities to practice beg...   \n",
       "1  My students need a projector to help with view...   \n",
       "2  My students need shine guards, athletic socks,...   \n",
       "3  My students need to engage in Reading and Math...   \n",
       "4  My students need hands on practice in mathemat...   \n",
       "\n",
       "   teacher_number_of_previously_posted_projects     price  quantity  \\\n",
       "0                                      0.000000  0.015397  0.023681   \n",
       "1                                      0.016355  0.029839  0.000000   \n",
       "2                                      0.002336  0.051628  0.022605   \n",
       "3                                      0.009346  0.023228  0.003229   \n",
       "4                                      0.002336  0.006733  0.003229   \n",
       "\n",
       "                                               essay  \n",
       "0  students english learners working english seco...  \n",
       "1  students arrive school eager learn polite gene...  \n",
       "2  true champions not always ones win guts mia ha...  \n",
       "3  work unique school filled esl english second l...  \n",
       "4  second grade classroom next year made around 2...  "
      ]
     },
     "execution_count": 2,
     "metadata": {},
     "output_type": "execute_result"
    }
   ],
   "source": [
    "#Fetching Clean Data \n",
    "df= pd.read_csv('Clean_data.csv')\n",
    "desc_features = ['id','teacher_id','teacher_prefix','school_state','project_submitted_datetime','project_grade_category','project_subject_categories','project_subject_subcategories','project_title','project_resource_summary','teacher_number_of_previously_posted_projects','price','quantity','essay']\n",
    "Y= df['project_is_approved']\n",
    "df.drop(columns=[\"project_is_approved\"],axis=1,inplace=True)\n",
    "df.head()"
   ]
  },
  {
   "cell_type": "markdown",
   "id": "d4422385",
   "metadata": {},
   "source": [
    "#### Using OrdinalEncoder utility class on descriptive features"
   ]
  },
  {
   "cell_type": "code",
   "execution_count": 3,
   "id": "3260be34",
   "metadata": {},
   "outputs": [
    {
     "data": {
      "text/html": [
       "<div>\n",
       "<style scoped>\n",
       "    .dataframe tbody tr th:only-of-type {\n",
       "        vertical-align: middle;\n",
       "    }\n",
       "\n",
       "    .dataframe tbody tr th {\n",
       "        vertical-align: top;\n",
       "    }\n",
       "\n",
       "    .dataframe thead th {\n",
       "        text-align: right;\n",
       "    }\n",
       "</style>\n",
       "<table border=\"1\" class=\"dataframe\">\n",
       "  <thead>\n",
       "    <tr style=\"text-align: right;\">\n",
       "      <th></th>\n",
       "      <th>id</th>\n",
       "      <th>teacher_id</th>\n",
       "      <th>teacher_prefix</th>\n",
       "      <th>school_state</th>\n",
       "      <th>project_submitted_datetime</th>\n",
       "      <th>project_grade_category</th>\n",
       "      <th>project_subject_categories</th>\n",
       "      <th>project_subject_subcategories</th>\n",
       "      <th>project_title</th>\n",
       "      <th>project_resource_summary</th>\n",
       "      <th>teacher_number_of_previously_posted_projects</th>\n",
       "      <th>price</th>\n",
       "      <th>quantity</th>\n",
       "      <th>essay</th>\n",
       "    </tr>\n",
       "  </thead>\n",
       "  <tbody>\n",
       "    <tr>\n",
       "      <th>0</th>\n",
       "      <td>48760.0</td>\n",
       "      <td>30298.0</td>\n",
       "      <td>2.0</td>\n",
       "      <td>15.0</td>\n",
       "      <td>13529.0</td>\n",
       "      <td>3.0</td>\n",
       "      <td>23.0</td>\n",
       "      <td>191.0</td>\n",
       "      <td>11645.0</td>\n",
       "      <td>36454.0</td>\n",
       "      <td>0.0</td>\n",
       "      <td>8421.0</td>\n",
       "      <td>22.0</td>\n",
       "      <td>31011.0</td>\n",
       "    </tr>\n",
       "    <tr>\n",
       "      <th>1</th>\n",
       "      <td>49632.0</td>\n",
       "      <td>20633.0</td>\n",
       "      <td>1.0</td>\n",
       "      <td>9.0</td>\n",
       "      <td>5809.0</td>\n",
       "      <td>1.0</td>\n",
       "      <td>18.0</td>\n",
       "      <td>75.0</td>\n",
       "      <td>43272.0</td>\n",
       "      <td>14190.0</td>\n",
       "      <td>7.0</td>\n",
       "      <td>15481.0</td>\n",
       "      <td>0.0</td>\n",
       "      <td>25400.0</td>\n",
       "    </tr>\n",
       "    <tr>\n",
       "      <th>2</th>\n",
       "      <td>35052.0</td>\n",
       "      <td>7876.0</td>\n",
       "      <td>3.0</td>\n",
       "      <td>3.0</td>\n",
       "      <td>37934.0</td>\n",
       "      <td>1.0</td>\n",
       "      <td>8.0</td>\n",
       "      <td>289.0</td>\n",
       "      <td>36844.0</td>\n",
       "      <td>39402.0</td>\n",
       "      <td>1.0</td>\n",
       "      <td>21911.0</td>\n",
       "      <td>21.0</td>\n",
       "      <td>46639.0</td>\n",
       "    </tr>\n",
       "    <tr>\n",
       "      <th>3</th>\n",
       "      <td>47383.0</td>\n",
       "      <td>36812.0</td>\n",
       "      <td>2.0</td>\n",
       "      <td>17.0</td>\n",
       "      <td>7058.0</td>\n",
       "      <td>3.0</td>\n",
       "      <td>27.0</td>\n",
       "      <td>305.0</td>\n",
       "      <td>39992.0</td>\n",
       "      <td>46437.0</td>\n",
       "      <td>4.0</td>\n",
       "      <td>12468.0</td>\n",
       "      <td>3.0</td>\n",
       "      <td>49094.0</td>\n",
       "    </tr>\n",
       "    <tr>\n",
       "      <th>4</th>\n",
       "      <td>20037.0</td>\n",
       "      <td>28655.0</td>\n",
       "      <td>2.0</td>\n",
       "      <td>43.0</td>\n",
       "      <td>28700.0</td>\n",
       "      <td>3.0</td>\n",
       "      <td>31.0</td>\n",
       "      <td>327.0</td>\n",
       "      <td>21100.0</td>\n",
       "      <td>29032.0</td>\n",
       "      <td>1.0</td>\n",
       "      <td>3402.0</td>\n",
       "      <td>3.0</td>\n",
       "      <td>22323.0</td>\n",
       "    </tr>\n",
       "    <tr>\n",
       "      <th>...</th>\n",
       "      <td>...</td>\n",
       "      <td>...</td>\n",
       "      <td>...</td>\n",
       "      <td>...</td>\n",
       "      <td>...</td>\n",
       "      <td>...</td>\n",
       "      <td>...</td>\n",
       "      <td>...</td>\n",
       "      <td>...</td>\n",
       "      <td>...</td>\n",
       "      <td>...</td>\n",
       "      <td>...</td>\n",
       "      <td>...</td>\n",
       "      <td>...</td>\n",
       "    </tr>\n",
       "    <tr>\n",
       "      <th>49995</th>\n",
       "      <td>27729.0</td>\n",
       "      <td>20526.0</td>\n",
       "      <td>2.0</td>\n",
       "      <td>14.0</td>\n",
       "      <td>44763.0</td>\n",
       "      <td>3.0</td>\n",
       "      <td>27.0</td>\n",
       "      <td>305.0</td>\n",
       "      <td>47240.0</td>\n",
       "      <td>30940.0</td>\n",
       "      <td>8.0</td>\n",
       "      <td>22314.0</td>\n",
       "      <td>1.0</td>\n",
       "      <td>41959.0</td>\n",
       "    </tr>\n",
       "    <tr>\n",
       "      <th>49996</th>\n",
       "      <td>26486.0</td>\n",
       "      <td>33692.0</td>\n",
       "      <td>1.0</td>\n",
       "      <td>33.0</td>\n",
       "      <td>21680.0</td>\n",
       "      <td>0.0</td>\n",
       "      <td>8.0</td>\n",
       "      <td>277.0</td>\n",
       "      <td>1571.0</td>\n",
       "      <td>5490.0</td>\n",
       "      <td>6.0</td>\n",
       "      <td>11548.0</td>\n",
       "      <td>5.0</td>\n",
       "      <td>36602.0</td>\n",
       "    </tr>\n",
       "    <tr>\n",
       "      <th>49997</th>\n",
       "      <td>30533.0</td>\n",
       "      <td>7355.0</td>\n",
       "      <td>2.0</td>\n",
       "      <td>41.0</td>\n",
       "      <td>35553.0</td>\n",
       "      <td>0.0</td>\n",
       "      <td>8.0</td>\n",
       "      <td>277.0</td>\n",
       "      <td>1899.0</td>\n",
       "      <td>442.0</td>\n",
       "      <td>9.0</td>\n",
       "      <td>2561.0</td>\n",
       "      <td>13.0</td>\n",
       "      <td>47777.0</td>\n",
       "    </tr>\n",
       "    <tr>\n",
       "      <th>49998</th>\n",
       "      <td>18089.0</td>\n",
       "      <td>28635.0</td>\n",
       "      <td>2.0</td>\n",
       "      <td>6.0</td>\n",
       "      <td>2515.0</td>\n",
       "      <td>3.0</td>\n",
       "      <td>29.0</td>\n",
       "      <td>323.0</td>\n",
       "      <td>6460.0</td>\n",
       "      <td>5029.0</td>\n",
       "      <td>23.0</td>\n",
       "      <td>5337.0</td>\n",
       "      <td>5.0</td>\n",
       "      <td>19784.0</td>\n",
       "    </tr>\n",
       "    <tr>\n",
       "      <th>49999</th>\n",
       "      <td>36158.0</td>\n",
       "      <td>13058.0</td>\n",
       "      <td>2.0</td>\n",
       "      <td>17.0</td>\n",
       "      <td>33200.0</td>\n",
       "      <td>3.0</td>\n",
       "      <td>23.0</td>\n",
       "      <td>316.0</td>\n",
       "      <td>20936.0</td>\n",
       "      <td>24700.0</td>\n",
       "      <td>0.0</td>\n",
       "      <td>21707.0</td>\n",
       "      <td>40.0</td>\n",
       "      <td>10916.0</td>\n",
       "    </tr>\n",
       "  </tbody>\n",
       "</table>\n",
       "<p>50000 rows × 14 columns</p>\n",
       "</div>"
      ],
      "text/plain": [
       "            id  teacher_id  teacher_prefix  school_state  \\\n",
       "0      48760.0     30298.0             2.0          15.0   \n",
       "1      49632.0     20633.0             1.0           9.0   \n",
       "2      35052.0      7876.0             3.0           3.0   \n",
       "3      47383.0     36812.0             2.0          17.0   \n",
       "4      20037.0     28655.0             2.0          43.0   \n",
       "...        ...         ...             ...           ...   \n",
       "49995  27729.0     20526.0             2.0          14.0   \n",
       "49996  26486.0     33692.0             1.0          33.0   \n",
       "49997  30533.0      7355.0             2.0          41.0   \n",
       "49998  18089.0     28635.0             2.0           6.0   \n",
       "49999  36158.0     13058.0             2.0          17.0   \n",
       "\n",
       "       project_submitted_datetime  project_grade_category  \\\n",
       "0                         13529.0                     3.0   \n",
       "1                          5809.0                     1.0   \n",
       "2                         37934.0                     1.0   \n",
       "3                          7058.0                     3.0   \n",
       "4                         28700.0                     3.0   \n",
       "...                           ...                     ...   \n",
       "49995                     44763.0                     3.0   \n",
       "49996                     21680.0                     0.0   \n",
       "49997                     35553.0                     0.0   \n",
       "49998                      2515.0                     3.0   \n",
       "49999                     33200.0                     3.0   \n",
       "\n",
       "       project_subject_categories  project_subject_subcategories  \\\n",
       "0                            23.0                          191.0   \n",
       "1                            18.0                           75.0   \n",
       "2                             8.0                          289.0   \n",
       "3                            27.0                          305.0   \n",
       "4                            31.0                          327.0   \n",
       "...                           ...                            ...   \n",
       "49995                        27.0                          305.0   \n",
       "49996                         8.0                          277.0   \n",
       "49997                         8.0                          277.0   \n",
       "49998                        29.0                          323.0   \n",
       "49999                        23.0                          316.0   \n",
       "\n",
       "       project_title  project_resource_summary  \\\n",
       "0            11645.0                   36454.0   \n",
       "1            43272.0                   14190.0   \n",
       "2            36844.0                   39402.0   \n",
       "3            39992.0                   46437.0   \n",
       "4            21100.0                   29032.0   \n",
       "...              ...                       ...   \n",
       "49995        47240.0                   30940.0   \n",
       "49996         1571.0                    5490.0   \n",
       "49997         1899.0                     442.0   \n",
       "49998         6460.0                    5029.0   \n",
       "49999        20936.0                   24700.0   \n",
       "\n",
       "       teacher_number_of_previously_posted_projects    price  quantity  \\\n",
       "0                                               0.0   8421.0      22.0   \n",
       "1                                               7.0  15481.0       0.0   \n",
       "2                                               1.0  21911.0      21.0   \n",
       "3                                               4.0  12468.0       3.0   \n",
       "4                                               1.0   3402.0       3.0   \n",
       "...                                             ...      ...       ...   \n",
       "49995                                           8.0  22314.0       1.0   \n",
       "49996                                           6.0  11548.0       5.0   \n",
       "49997                                           9.0   2561.0      13.0   \n",
       "49998                                          23.0   5337.0       5.0   \n",
       "49999                                           0.0  21707.0      40.0   \n",
       "\n",
       "         essay  \n",
       "0      31011.0  \n",
       "1      25400.0  \n",
       "2      46639.0  \n",
       "3      49094.0  \n",
       "4      22323.0  \n",
       "...        ...  \n",
       "49995  41959.0  \n",
       "49996  36602.0  \n",
       "49997  47777.0  \n",
       "49998  19784.0  \n",
       "49999  10916.0  \n",
       "\n",
       "[50000 rows x 14 columns]"
      ]
     },
     "execution_count": 3,
     "metadata": {},
     "output_type": "execute_result"
    }
   ],
   "source": [
    "#Transforming features to apply to a model\n",
    "#z=pd.get_dummies(df)\n",
    "X_train_new=OrdinalEncoder().fit_transform(df)\n",
    "#converting numpy array to dataframe\n",
    "Training_desc=pd.DataFrame(X_train_new,columns=desc_features)\n",
    "Training_desc"
   ]
  },
  {
   "cell_type": "markdown",
   "id": "7a885191",
   "metadata": {},
   "source": [
    "### feature selection using chi2"
   ]
  },
  {
   "cell_type": "code",
   "execution_count": 4,
   "id": "295fa7b3",
   "metadata": {},
   "outputs": [
    {
     "name": "stdout",
     "output_type": "stream",
     "text": [
      "Feature  id : 23526.25668734894\n",
      "Feature  teacher_id : 1918.8194462343388\n",
      "Feature  teacher_prefix : 0.7719438945874665\n",
      "Feature  school_state : 2.984776019657661\n",
      "Feature  project_submitted_datetime : 382547.16353748733\n",
      "Feature  project_grade_category : 3.052413616981203\n",
      "Feature  project_subject_categories : 13.832869246621911\n",
      "Feature  project_subject_subcategories : 1378.2548425916984\n",
      "Feature  project_title : 32391.875222783987\n",
      "Feature  project_resource_summary : 2591903.797126344\n",
      "Feature  teacher_number_of_previously_posted_projects : 3022.9724643134355\n",
      "Feature  price : 2806441.187934205\n",
      "Feature  quantity : 4189.362105615697\n",
      "Feature  essay : 2422.080301448328\n"
     ]
    },
    {
     "data": {
      "image/png": "[encoded data removed]",
      "text/plain": [
       "<Figure size 432x288 with 1 Axes>"
      ]
     },
     "metadata": {
      "needs_background": "light"
     },
     "output_type": "display_data"
    }
   ],
   "source": [
    "fs = SelectKBest(score_func=chi2, k=9)\n",
    "fs.fit(Training_desc,Y)\n",
    "scores=list(fs.scores_)\n",
    "\n",
    "for x,y in zip(desc_features,fs.scores_):\n",
    "    print(\"Feature \",x,\":\",y)\n",
    "\n",
    "#plot the scores\n",
    "plt.bar([i for i in range(len(fs.scores_))], fs.scores_)\n",
    "plt.show()"
   ]
  },
  {
   "cell_type": "markdown",
   "id": "76a2c93e",
   "metadata": {},
   "source": [
    "### Extra Tree Classifier for Feature Selection"
   ]
  },
  {
   "cell_type": "code",
   "execution_count": 5,
   "id": "f1ba132d",
   "metadata": {},
   "outputs": [
    {
     "name": "stdout",
     "output_type": "stream",
     "text": [
      "[0.07623278 0.0757448  0.04557754 0.0728247  0.07731947 0.04230045\n",
      " 0.06441605 0.07147473 0.07638068 0.08268852 0.06397105 0.0900366\n",
      " 0.08475269 0.07627995]\n"
     ]
    },
    {
     "data": {
      "image/png": "[encoded data removed]",
      "text/plain": [
       "<Figure size 432x288 with 1 Axes>"
      ]
     },
     "metadata": {
      "needs_background": "light"
     },
     "output_type": "display_data"
    }
   ],
   "source": [
    "model = ExtraTreesClassifier()\n",
    "model.fit(Training_desc,Y)\n",
    "print(model.feature_importances_) #use inbuilt class feature_importances of tree based classifiers\n",
    "#plot graph of feature importances for better visualization\n",
    "feat_importances = pd.Series(model.feature_importances_, index=desc_features)\n",
    "feat_importances.nlargest(10).plot(kind='bar')\n",
    "plt.show()"
   ]
  },
  {
   "cell_type": "markdown",
   "id": "9d7b7f4a",
   "metadata": {},
   "source": [
    "### Split the data into training and testing (33% for testing)"
   ]
  },
  {
   "cell_type": "code",
   "execution_count": 6,
   "id": "6f7c87a9",
   "metadata": {},
   "outputs": [
    {
     "data": {
      "text/html": [
       "<div>\n",
       "<style scoped>\n",
       "    .dataframe tbody tr th:only-of-type {\n",
       "        vertical-align: middle;\n",
       "    }\n",
       "\n",
       "    .dataframe tbody tr th {\n",
       "        vertical-align: top;\n",
       "    }\n",
       "\n",
       "    .dataframe thead th {\n",
       "        text-align: right;\n",
       "    }\n",
       "</style>\n",
       "<table border=\"1\" class=\"dataframe\">\n",
       "  <thead>\n",
       "    <tr style=\"text-align: right;\">\n",
       "      <th></th>\n",
       "      <th>id</th>\n",
       "      <th>teacher_id</th>\n",
       "      <th>teacher_prefix</th>\n",
       "      <th>school_state</th>\n",
       "      <th>project_submitted_datetime</th>\n",
       "      <th>project_grade_category</th>\n",
       "      <th>project_subject_categories</th>\n",
       "      <th>project_subject_subcategories</th>\n",
       "      <th>project_title</th>\n",
       "      <th>project_resource_summary</th>\n",
       "      <th>teacher_number_of_previously_posted_projects</th>\n",
       "      <th>price</th>\n",
       "      <th>quantity</th>\n",
       "      <th>essay</th>\n",
       "    </tr>\n",
       "  </thead>\n",
       "  <tbody>\n",
       "    <tr>\n",
       "      <th>44978</th>\n",
       "      <td>40077.0</td>\n",
       "      <td>28212.0</td>\n",
       "      <td>2.0</td>\n",
       "      <td>35.0</td>\n",
       "      <td>32233.0</td>\n",
       "      <td>3.0</td>\n",
       "      <td>8.0</td>\n",
       "      <td>248.0</td>\n",
       "      <td>15184.0</td>\n",
       "      <td>31520.0</td>\n",
       "      <td>23.0</td>\n",
       "      <td>7352.0</td>\n",
       "      <td>1.0</td>\n",
       "      <td>42822.0</td>\n",
       "    </tr>\n",
       "    <tr>\n",
       "      <th>18495</th>\n",
       "      <td>40519.0</td>\n",
       "      <td>29551.0</td>\n",
       "      <td>2.0</td>\n",
       "      <td>35.0</td>\n",
       "      <td>14606.0</td>\n",
       "      <td>0.0</td>\n",
       "      <td>45.0</td>\n",
       "      <td>375.0</td>\n",
       "      <td>21843.0</td>\n",
       "      <td>40491.0</td>\n",
       "      <td>0.0</td>\n",
       "      <td>16714.0</td>\n",
       "      <td>6.0</td>\n",
       "      <td>21856.0</td>\n",
       "    </tr>\n",
       "    <tr>\n",
       "      <th>29029</th>\n",
       "      <td>36461.0</td>\n",
       "      <td>10163.0</td>\n",
       "      <td>3.0</td>\n",
       "      <td>4.0</td>\n",
       "      <td>24607.0</td>\n",
       "      <td>3.0</td>\n",
       "      <td>35.0</td>\n",
       "      <td>168.0</td>\n",
       "      <td>20765.0</td>\n",
       "      <td>27086.0</td>\n",
       "      <td>23.0</td>\n",
       "      <td>6774.0</td>\n",
       "      <td>23.0</td>\n",
       "      <td>7026.0</td>\n",
       "    </tr>\n",
       "    <tr>\n",
       "      <th>22648</th>\n",
       "      <td>7724.0</td>\n",
       "      <td>1911.0</td>\n",
       "      <td>2.0</td>\n",
       "      <td>14.0</td>\n",
       "      <td>2241.0</td>\n",
       "      <td>3.0</td>\n",
       "      <td>37.0</td>\n",
       "      <td>334.0</td>\n",
       "      <td>23690.0</td>\n",
       "      <td>47979.0</td>\n",
       "      <td>1.0</td>\n",
       "      <td>16266.0</td>\n",
       "      <td>3.0</td>\n",
       "      <td>23229.0</td>\n",
       "    </tr>\n",
       "    <tr>\n",
       "      <th>24450</th>\n",
       "      <td>18457.0</td>\n",
       "      <td>17507.0</td>\n",
       "      <td>2.0</td>\n",
       "      <td>33.0</td>\n",
       "      <td>9622.0</td>\n",
       "      <td>3.0</td>\n",
       "      <td>35.0</td>\n",
       "      <td>168.0</td>\n",
       "      <td>29335.0</td>\n",
       "      <td>31354.0</td>\n",
       "      <td>4.0</td>\n",
       "      <td>10274.0</td>\n",
       "      <td>0.0</td>\n",
       "      <td>22710.0</td>\n",
       "    </tr>\n",
       "    <tr>\n",
       "      <th>...</th>\n",
       "      <td>...</td>\n",
       "      <td>...</td>\n",
       "      <td>...</td>\n",
       "      <td>...</td>\n",
       "      <td>...</td>\n",
       "      <td>...</td>\n",
       "      <td>...</td>\n",
       "      <td>...</td>\n",
       "      <td>...</td>\n",
       "      <td>...</td>\n",
       "      <td>...</td>\n",
       "      <td>...</td>\n",
       "      <td>...</td>\n",
       "      <td>...</td>\n",
       "    </tr>\n",
       "    <tr>\n",
       "      <th>34668</th>\n",
       "      <td>3077.0</td>\n",
       "      <td>20447.0</td>\n",
       "      <td>2.0</td>\n",
       "      <td>24.0</td>\n",
       "      <td>25202.0</td>\n",
       "      <td>0.0</td>\n",
       "      <td>0.0</td>\n",
       "      <td>29.0</td>\n",
       "      <td>38928.0</td>\n",
       "      <td>10986.0</td>\n",
       "      <td>1.0</td>\n",
       "      <td>21211.0</td>\n",
       "      <td>0.0</td>\n",
       "      <td>26100.0</td>\n",
       "    </tr>\n",
       "    <tr>\n",
       "      <th>8950</th>\n",
       "      <td>13098.0</td>\n",
       "      <td>19522.0</td>\n",
       "      <td>2.0</td>\n",
       "      <td>15.0</td>\n",
       "      <td>28238.0</td>\n",
       "      <td>3.0</td>\n",
       "      <td>27.0</td>\n",
       "      <td>317.0</td>\n",
       "      <td>21341.0</td>\n",
       "      <td>5861.0</td>\n",
       "      <td>0.0</td>\n",
       "      <td>11100.0</td>\n",
       "      <td>8.0</td>\n",
       "      <td>26745.0</td>\n",
       "    </tr>\n",
       "    <tr>\n",
       "      <th>8572</th>\n",
       "      <td>14734.0</td>\n",
       "      <td>31997.0</td>\n",
       "      <td>3.0</td>\n",
       "      <td>36.0</td>\n",
       "      <td>34404.0</td>\n",
       "      <td>0.0</td>\n",
       "      <td>29.0</td>\n",
       "      <td>312.0</td>\n",
       "      <td>38032.0</td>\n",
       "      <td>29031.0</td>\n",
       "      <td>0.0</td>\n",
       "      <td>22153.0</td>\n",
       "      <td>41.0</td>\n",
       "      <td>47305.0</td>\n",
       "    </tr>\n",
       "    <tr>\n",
       "      <th>15278</th>\n",
       "      <td>20221.0</td>\n",
       "      <td>3089.0</td>\n",
       "      <td>2.0</td>\n",
       "      <td>34.0</td>\n",
       "      <td>34183.0</td>\n",
       "      <td>0.0</td>\n",
       "      <td>27.0</td>\n",
       "      <td>305.0</td>\n",
       "      <td>26444.0</td>\n",
       "      <td>40032.0</td>\n",
       "      <td>1.0</td>\n",
       "      <td>22195.0</td>\n",
       "      <td>6.0</td>\n",
       "      <td>7003.0</td>\n",
       "    </tr>\n",
       "    <tr>\n",
       "      <th>12000</th>\n",
       "      <td>46142.0</td>\n",
       "      <td>6328.0</td>\n",
       "      <td>2.0</td>\n",
       "      <td>27.0</td>\n",
       "      <td>25063.0</td>\n",
       "      <td>0.0</td>\n",
       "      <td>31.0</td>\n",
       "      <td>18.0</td>\n",
       "      <td>9342.0</td>\n",
       "      <td>26934.0</td>\n",
       "      <td>10.0</td>\n",
       "      <td>7471.0</td>\n",
       "      <td>34.0</td>\n",
       "      <td>10879.0</td>\n",
       "    </tr>\n",
       "  </tbody>\n",
       "</table>\n",
       "<p>33500 rows × 14 columns</p>\n",
       "</div>"
      ],
      "text/plain": [
       "            id  teacher_id  teacher_prefix  school_state  \\\n",
       "44978  40077.0     28212.0             2.0          35.0   \n",
       "18495  40519.0     29551.0             2.0          35.0   \n",
       "29029  36461.0     10163.0             3.0           4.0   \n",
       "22648   7724.0      1911.0             2.0          14.0   \n",
       "24450  18457.0     17507.0             2.0          33.0   \n",
       "...        ...         ...             ...           ...   \n",
       "34668   3077.0     20447.0             2.0          24.0   \n",
       "8950   13098.0     19522.0             2.0          15.0   \n",
       "8572   14734.0     31997.0             3.0          36.0   \n",
       "15278  20221.0      3089.0             2.0          34.0   \n",
       "12000  46142.0      6328.0             2.0          27.0   \n",
       "\n",
       "       project_submitted_datetime  project_grade_category  \\\n",
       "44978                     32233.0                     3.0   \n",
       "18495                     14606.0                     0.0   \n",
       "29029                     24607.0                     3.0   \n",
       "22648                      2241.0                     3.0   \n",
       "24450                      9622.0                     3.0   \n",
       "...                           ...                     ...   \n",
       "34668                     25202.0                     0.0   \n",
       "8950                      28238.0                     3.0   \n",
       "8572                      34404.0                     0.0   \n",
       "15278                     34183.0                     0.0   \n",
       "12000                     25063.0                     0.0   \n",
       "\n",
       "       project_subject_categories  project_subject_subcategories  \\\n",
       "44978                         8.0                          248.0   \n",
       "18495                        45.0                          375.0   \n",
       "29029                        35.0                          168.0   \n",
       "22648                        37.0                          334.0   \n",
       "24450                        35.0                          168.0   \n",
       "...                           ...                            ...   \n",
       "34668                         0.0                           29.0   \n",
       "8950                         27.0                          317.0   \n",
       "8572                         29.0                          312.0   \n",
       "15278                        27.0                          305.0   \n",
       "12000                        31.0                           18.0   \n",
       "\n",
       "       project_title  project_resource_summary  \\\n",
       "44978        15184.0                   31520.0   \n",
       "18495        21843.0                   40491.0   \n",
       "29029        20765.0                   27086.0   \n",
       "22648        23690.0                   47979.0   \n",
       "24450        29335.0                   31354.0   \n",
       "...              ...                       ...   \n",
       "34668        38928.0                   10986.0   \n",
       "8950         21341.0                    5861.0   \n",
       "8572         38032.0                   29031.0   \n",
       "15278        26444.0                   40032.0   \n",
       "12000         9342.0                   26934.0   \n",
       "\n",
       "       teacher_number_of_previously_posted_projects    price  quantity  \\\n",
       "44978                                          23.0   7352.0       1.0   \n",
       "18495                                           0.0  16714.0       6.0   \n",
       "29029                                          23.0   6774.0      23.0   \n",
       "22648                                           1.0  16266.0       3.0   \n",
       "24450                                           4.0  10274.0       0.0   \n",
       "...                                             ...      ...       ...   \n",
       "34668                                           1.0  21211.0       0.0   \n",
       "8950                                            0.0  11100.0       8.0   \n",
       "8572                                            0.0  22153.0      41.0   \n",
       "15278                                           1.0  22195.0       6.0   \n",
       "12000                                          10.0   7471.0      34.0   \n",
       "\n",
       "         essay  \n",
       "44978  42822.0  \n",
       "18495  21856.0  \n",
       "29029   7026.0  \n",
       "22648  23229.0  \n",
       "24450  22710.0  \n",
       "...        ...  \n",
       "34668  26100.0  \n",
       "8950   26745.0  \n",
       "8572   47305.0  \n",
       "15278   7003.0  \n",
       "12000  10879.0  \n",
       "\n",
       "[33500 rows x 14 columns]"
      ]
     },
     "execution_count": 6,
     "metadata": {},
     "output_type": "execute_result"
    }
   ],
   "source": [
    "X=Training_desc[desc_features]\n",
    "X_Train, X_Test, Y_Train, Y_Test = train_test_split(X, Y, test_size=0.33, stratify=Y, random_state = 71)\n",
    "X_Train"
   ]
  },
  {
   "cell_type": "markdown",
   "id": "1bfd42d1",
   "metadata": {},
   "source": [
    "### Train a model using Naive Bayes algorithm"
   ]
  },
  {
   "cell_type": "code",
   "execution_count": 7,
   "id": "1d32e34b",
   "metadata": {},
   "outputs": [
    {
     "data": {
      "text/html": [
       "<div>\n",
       "<style scoped>\n",
       "    .dataframe tbody tr th:only-of-type {\n",
       "        vertical-align: middle;\n",
       "    }\n",
       "\n",
       "    .dataframe tbody tr th {\n",
       "        vertical-align: top;\n",
       "    }\n",
       "\n",
       "    .dataframe thead th {\n",
       "        text-align: right;\n",
       "    }\n",
       "</style>\n",
       "<table border=\"1\" class=\"dataframe\">\n",
       "  <thead>\n",
       "    <tr style=\"text-align: right;\">\n",
       "      <th></th>\n",
       "      <th></th>\n",
       "    </tr>\n",
       "  </thead>\n",
       "  <tbody>\n",
       "    <tr>\n",
       "      <th>0</th>\n",
       "      <td>1</td>\n",
       "    </tr>\n",
       "    <tr>\n",
       "      <th>1</th>\n",
       "      <td>1</td>\n",
       "    </tr>\n",
       "    <tr>\n",
       "      <th>2</th>\n",
       "      <td>1</td>\n",
       "    </tr>\n",
       "    <tr>\n",
       "      <th>3</th>\n",
       "      <td>1</td>\n",
       "    </tr>\n",
       "    <tr>\n",
       "      <th>4</th>\n",
       "      <td>1</td>\n",
       "    </tr>\n",
       "    <tr>\n",
       "      <th>...</th>\n",
       "      <td>...</td>\n",
       "    </tr>\n",
       "    <tr>\n",
       "      <th>16495</th>\n",
       "      <td>1</td>\n",
       "    </tr>\n",
       "    <tr>\n",
       "      <th>16496</th>\n",
       "      <td>1</td>\n",
       "    </tr>\n",
       "    <tr>\n",
       "      <th>16497</th>\n",
       "      <td>1</td>\n",
       "    </tr>\n",
       "    <tr>\n",
       "      <th>16498</th>\n",
       "      <td>1</td>\n",
       "    </tr>\n",
       "    <tr>\n",
       "      <th>16499</th>\n",
       "      <td>1</td>\n",
       "    </tr>\n",
       "  </tbody>\n",
       "</table>\n",
       "<p>16500 rows × 1 columns</p>\n",
       "</div>"
      ],
      "text/plain": [
       "        \n",
       "0      1\n",
       "1      1\n",
       "2      1\n",
       "3      1\n",
       "4      1\n",
       "...   ..\n",
       "16495  1\n",
       "16496  1\n",
       "16497  1\n",
       "16498  1\n",
       "16499  1\n",
       "\n",
       "[16500 rows x 1 columns]"
      ]
     },
     "execution_count": 7,
     "metadata": {},
     "output_type": "execute_result"
    }
   ],
   "source": [
    "gnb = GaussianNB()\n",
    "#Training and Fitting model using Naive Bayes algorithm with trained data\n",
    "gnb.fit(X_Train,Y_Train)\n",
    "#predicting the y values for all X values of testing data set\n",
    "Y_pred = pd.DataFrame(gnb.predict(X_Test),columns=[\"\"]) \n",
    "Y_pred"
   ]
  },
  {
   "cell_type": "markdown",
   "id": "306f2de3",
   "metadata": {},
   "source": [
    "#### Accuracy of Guassian Navie Bayes model"
   ]
  },
  {
   "cell_type": "code",
   "execution_count": 8,
   "id": "81506d4e",
   "metadata": {},
   "outputs": [
    {
     "name": "stdout",
     "output_type": "stream",
     "text": [
      "accuracy score of the given prediction values of y with testing values of y 0.8453939393939394\n"
     ]
    }
   ],
   "source": [
    "accuracy = accuracy_score(Y_Test, Y_pred) \n",
    "print(\"accuracy score of the given prediction values of y with testing values of y\",accuracy)"
   ]
  },
  {
   "cell_type": "code",
   "execution_count": 9,
   "id": "ff5b370c",
   "metadata": {},
   "outputs": [
    {
     "name": "stdout",
     "output_type": "stream",
     "text": [
      "Priors of Guassian Navie Bayes Classifier are [0.15426866 0.84573134]\n"
     ]
    }
   ],
   "source": [
    "#Priors of our model\n",
    "print(\"Priors of Guassian Navie Bayes Classifier are\",gnb.class_prior_)"
   ]
  },
  {
   "cell_type": "code",
   "execution_count": 10,
   "id": "dbb535c9",
   "metadata": {},
   "outputs": [
    {
     "data": {
      "image/png": "[encoded data removed]",
      "text/plain": [
       "<Figure size 432x288 with 2 Axes>"
      ]
     },
     "metadata": {
      "needs_background": "light"
     },
     "output_type": "display_data"
    }
   ],
   "source": [
    "x_axis_labels = ['Predicted: 0','Predicted: 1']\n",
    "y_axis_labels = ['Actual: 0','Actual: 1']\n",
    "sns.heatmap(confusion_matrix(Y_Test,Y_pred), annot=True,fmt=\"d\",cmap='coolwarm', xticklabels=x_axis_labels, yticklabels=y_axis_labels)\n",
    "plt.title('Confusion matrix')\n",
    "plt.show()"
   ]
  },
  {
   "cell_type": "code",
   "execution_count": 11,
   "id": "ce2680e3",
   "metadata": {},
   "outputs": [],
   "source": [
    "#Getting TP,TN,FP,FN values from confusion matrix\n",
    "C_Matrix=confusion_matrix(Y_Test,Y_pred)\n",
    "def TPTN(conf):\n",
    "    TN = conf[0,0]\n",
    "    FP = conf[0,1]\n",
    "    FN = conf[1,0]\n",
    "    TP = conf[1,1]\n",
    "    return TN,FP,FN,TP\n",
    "TN,FP,FN,TP=TPTN(C_Matrix)"
   ]
  },
  {
   "cell_type": "code",
   "execution_count": 12,
   "id": "d9f5f573",
   "metadata": {},
   "outputs": [],
   "source": [
    "LAccuracy,LPrecision,LF1Score,LRecall,LTrueSkillStatistic,LHeidkeSkillScore,LBalancedAccuracy,LYoudenIndex=[],[],[],[],[],[],[],[]\n",
    "ta={1:0.728693,4:0.728692,2:0.728686,6:0.728678,9:0.728616,7:0.727908,8:0.727122,5:0.720862,3:0.616463,0:0.531713}\n",
    "train_auc_=pd.Series(ta)\n",
    "a={1:-5.00000,4:-4.00000,2:-3.30103,6:-3.00000,9:-2.30103,7:-1.30103,8:-1.00000,5:-0.30103,3:1.00000,0:2.00000}\n",
    "alpha_=pd.Series(a)\n",
    "Models=['GaussianNB',' Logistic Regression','RandomForest','AdaBoost','KNeighbors']\n",
    "cv={1:0.662078,4:0.662077,2:0.662073,6:0.662067,9:0.662021,7:0.661533,8:0.661014,5:0.656868,3:0.581507,0:0.525193}\n",
    "cv_auc_=pd.Series(cv)"
   ]
  },
  {
   "cell_type": "markdown",
   "id": "43e4cc95",
   "metadata": {},
   "source": [
    "### Evaluation metrics which are not implemented in standard libraries."
   ]
  },
  {
   "cell_type": "code",
   "execution_count": 13,
   "id": "2278a4e1",
   "metadata": {},
   "outputs": [],
   "source": [
    "def Accuracy(C_Matrix):\n",
    "    TN,FP,FN,TP=TPTN(C_Matrix)\n",
    "    return (TP+TN)/(TP+TN+FP+FN)\n",
    "\n",
    "def Precision(C_Matrix):\n",
    "    TN,FP,FN,TP=TPTN(C_Matrix)\n",
    "    return TP/(TP+FP)\n",
    "\n",
    "def Recall(C_Matrix):\n",
    "    TN,FP,FN,TP=TPTN(C_Matrix)\n",
    "    return TP/(TP+FN)\n",
    "\n",
    "def F1Score(C_Matrix):\n",
    "    TN,FP,FN,TP=TPTN(C_Matrix)\n",
    "    a=Precision(C_Matrix)*Recall(C_Matrix)\n",
    "    b=Precision(C_Matrix)+Recall(C_Matrix)\n",
    "    return 2*a/b\n",
    "def TrueSkillStatistic(C_Matrix):\n",
    "    TN,FP,FN,TP=TPTN(C_Matrix)\n",
    "    return(TP/(TP+FN))-(FP/(TN+FP))\n",
    "    \n",
    "def HeidkeSkillScore(C_Matrix):\n",
    "    TN,FP,FN,TP=TPTN(C_Matrix)\n",
    "    a=2*((TP*TN)-(FN*FP))\n",
    "    b=((TP+FN)*(FN+TN)) + ((FP+TN)*(TP+FP))\n",
    "    return a/b\n",
    "def BalancedAccuracy(C_Matrix):\n",
    "    TN,FP,FN,TP=TPTN(C_Matrix)\n",
    "    a=TP+TN\n",
    "    b=TP+FP+TN+FN\n",
    "    return (a/(2*b))\n",
    "def YoudenIndex(C_Matrix):\n",
    "    TN,FP,FN,TP=TPTN(C_Matrix)\n",
    "    a=(TP*TN-FN*FP)\n",
    "    b=(TP+FN)*(FP+TN)\n",
    "    return a/b\n",
    "    \n",
    "LAccuracy.append(Accuracy(C_Matrix))\n",
    "LPrecision.append(Precision(C_Matrix))\n",
    "LF1Score.append(F1Score(C_Matrix))\n",
    "LRecall.append(Recall(C_Matrix))\n",
    "LTrueSkillStatistic.append(TrueSkillStatistic(C_Matrix))\n",
    "LHeidkeSkillScore.append(HeidkeSkillScore(C_Matrix))\n",
    "LBalancedAccuracy.append(BalancedAccuracy(C_Matrix))\n",
    "LYoudenIndex.append(YoudenIndex(C_Matrix))"
   ]
  },
  {
   "cell_type": "markdown",
   "id": "78c37cbb",
   "metadata": {},
   "source": [
    "### Checking Obtained Metric Values with standard library values"
   ]
  },
  {
   "cell_type": "code",
   "execution_count": 14,
   "id": "4842588f",
   "metadata": {},
   "outputs": [
    {
     "name": "stdout",
     "output_type": "stream",
     "text": [
      "              precision    recall  f1-score   support\n",
      "\n",
      "           1       0.85      1.00      0.92     13954\n",
      "           2       0.00      0.00      0.00         0\n",
      "           3       0.00      0.00      0.00         0\n",
      "\n",
      "   micro avg       0.85      1.00      0.92     13954\n",
      "   macro avg       0.28      0.33      0.31     13954\n",
      "weighted avg       0.85      1.00      0.92     13954\n",
      "\n"
     ]
    }
   ],
   "source": [
    " print(classification_report(Y_Test, Y_pred, labels=[1, 2, 3]))"
   ]
  },
  {
   "cell_type": "markdown",
   "id": "129b000a",
   "metadata": {},
   "source": [
    "#### Hyperparameter tuning"
   ]
  },
  {
   "cell_type": "code",
   "execution_count": 15,
   "id": "266deebf",
   "metadata": {},
   "outputs": [
    {
     "data": {
      "image/png": "[encoded data removed]",
      "text/plain": [
       "<Figure size 432x288 with 1 Axes>"
      ]
     },
     "metadata": {
      "needs_background": "light"
     },
     "output_type": "display_data"
    },
    {
     "data": {
      "text/html": [
       "<div>\n",
       "<style scoped>\n",
       "    .dataframe tbody tr th:only-of-type {\n",
       "        vertical-align: middle;\n",
       "    }\n",
       "\n",
       "    .dataframe tbody tr th {\n",
       "        vertical-align: top;\n",
       "    }\n",
       "\n",
       "    .dataframe thead th {\n",
       "        text-align: right;\n",
       "    }\n",
       "</style>\n",
       "<table border=\"1\" class=\"dataframe\">\n",
       "  <thead>\n",
       "    <tr style=\"text-align: right;\">\n",
       "      <th></th>\n",
       "      <th>mean_fit_time</th>\n",
       "      <th>std_fit_time</th>\n",
       "      <th>mean_score_time</th>\n",
       "      <th>std_score_time</th>\n",
       "      <th>param_alpha</th>\n",
       "      <th>params</th>\n",
       "      <th>split0_test_score</th>\n",
       "      <th>split1_test_score</th>\n",
       "      <th>split2_test_score</th>\n",
       "      <th>mean_test_score</th>\n",
       "      <th>std_test_score</th>\n",
       "      <th>rank_test_score</th>\n",
       "      <th>split0_train_score</th>\n",
       "      <th>split1_train_score</th>\n",
       "      <th>split2_train_score</th>\n",
       "      <th>mean_train_score</th>\n",
       "      <th>std_train_score</th>\n",
       "    </tr>\n",
       "  </thead>\n",
       "  <tbody>\n",
       "    <tr>\n",
       "      <th>0</th>\n",
       "      <td>0.029339</td>\n",
       "      <td>0.003770</td>\n",
       "      <td>0.016003</td>\n",
       "      <td>0.000004</td>\n",
       "      <td>0.00001</td>\n",
       "      <td>{'alpha': 1e-05}</td>\n",
       "      <td>0.554363</td>\n",
       "      <td>0.577224</td>\n",
       "      <td>0.56869</td>\n",
       "      <td>0.566759</td>\n",
       "      <td>0.009432</td>\n",
       "      <td>1</td>\n",
       "      <td>0.575574</td>\n",
       "      <td>0.563462</td>\n",
       "      <td>0.567795</td>\n",
       "      <td>0.568944</td>\n",
       "      <td>0.005011</td>\n",
       "    </tr>\n",
       "    <tr>\n",
       "      <th>2</th>\n",
       "      <td>0.029341</td>\n",
       "      <td>0.003772</td>\n",
       "      <td>0.013333</td>\n",
       "      <td>0.003776</td>\n",
       "      <td>0.0001</td>\n",
       "      <td>{'alpha': 0.0001}</td>\n",
       "      <td>0.554363</td>\n",
       "      <td>0.577224</td>\n",
       "      <td>0.56869</td>\n",
       "      <td>0.566759</td>\n",
       "      <td>0.009432</td>\n",
       "      <td>1</td>\n",
       "      <td>0.575574</td>\n",
       "      <td>0.563462</td>\n",
       "      <td>0.567795</td>\n",
       "      <td>0.568944</td>\n",
       "      <td>0.005011</td>\n",
       "    </tr>\n",
       "    <tr>\n",
       "      <th>1</th>\n",
       "      <td>0.034671</td>\n",
       "      <td>0.003766</td>\n",
       "      <td>0.010672</td>\n",
       "      <td>0.003776</td>\n",
       "      <td>0.0005</td>\n",
       "      <td>{'alpha': 0.0005}</td>\n",
       "      <td>0.554363</td>\n",
       "      <td>0.577224</td>\n",
       "      <td>0.56869</td>\n",
       "      <td>0.566759</td>\n",
       "      <td>0.009432</td>\n",
       "      <td>1</td>\n",
       "      <td>0.575574</td>\n",
       "      <td>0.563462</td>\n",
       "      <td>0.567795</td>\n",
       "      <td>0.568944</td>\n",
       "      <td>0.005011</td>\n",
       "    </tr>\n",
       "    <tr>\n",
       "      <th>4</th>\n",
       "      <td>0.030000</td>\n",
       "      <td>0.003887</td>\n",
       "      <td>0.013655</td>\n",
       "      <td>0.003336</td>\n",
       "      <td>0.001</td>\n",
       "      <td>{'alpha': 0.001}</td>\n",
       "      <td>0.554363</td>\n",
       "      <td>0.577224</td>\n",
       "      <td>0.56869</td>\n",
       "      <td>0.566759</td>\n",
       "      <td>0.009432</td>\n",
       "      <td>1</td>\n",
       "      <td>0.575574</td>\n",
       "      <td>0.563462</td>\n",
       "      <td>0.567795</td>\n",
       "      <td>0.568944</td>\n",
       "      <td>0.005011</td>\n",
       "    </tr>\n",
       "    <tr>\n",
       "      <th>3</th>\n",
       "      <td>0.032007</td>\n",
       "      <td>0.000002</td>\n",
       "      <td>0.013333</td>\n",
       "      <td>0.003771</td>\n",
       "      <td>0.005</td>\n",
       "      <td>{'alpha': 0.005}</td>\n",
       "      <td>0.554363</td>\n",
       "      <td>0.577224</td>\n",
       "      <td>0.56869</td>\n",
       "      <td>0.566759</td>\n",
       "      <td>0.009432</td>\n",
       "      <td>1</td>\n",
       "      <td>0.575574</td>\n",
       "      <td>0.563462</td>\n",
       "      <td>0.567795</td>\n",
       "      <td>0.568944</td>\n",
       "      <td>0.005011</td>\n",
       "    </tr>\n",
       "  </tbody>\n",
       "</table>\n",
       "</div>"
      ],
      "text/plain": [
       "   mean_fit_time  std_fit_time  mean_score_time  std_score_time param_alpha  \\\n",
       "0       0.029339      0.003770         0.016003        0.000004     0.00001   \n",
       "2       0.029341      0.003772         0.013333        0.003776      0.0001   \n",
       "1       0.034671      0.003766         0.010672        0.003776      0.0005   \n",
       "4       0.030000      0.003887         0.013655        0.003336       0.001   \n",
       "3       0.032007      0.000002         0.013333        0.003771       0.005   \n",
       "\n",
       "              params  split0_test_score  split1_test_score  split2_test_score  \\\n",
       "0   {'alpha': 1e-05}           0.554363           0.577224            0.56869   \n",
       "2  {'alpha': 0.0001}           0.554363           0.577224            0.56869   \n",
       "1  {'alpha': 0.0005}           0.554363           0.577224            0.56869   \n",
       "4   {'alpha': 0.001}           0.554363           0.577224            0.56869   \n",
       "3   {'alpha': 0.005}           0.554363           0.577224            0.56869   \n",
       "\n",
       "   mean_test_score  std_test_score  rank_test_score  split0_train_score  \\\n",
       "0         0.566759        0.009432                1            0.575574   \n",
       "2         0.566759        0.009432                1            0.575574   \n",
       "1         0.566759        0.009432                1            0.575574   \n",
       "4         0.566759        0.009432                1            0.575574   \n",
       "3         0.566759        0.009432                1            0.575574   \n",
       "\n",
       "   split1_train_score  split2_train_score  mean_train_score  std_train_score  \n",
       "0            0.563462            0.567795          0.568944         0.005011  \n",
       "2            0.563462            0.567795          0.568944         0.005011  \n",
       "1            0.563462            0.567795          0.568944         0.005011  \n",
       "4            0.563462            0.567795          0.568944         0.005011  \n",
       "3            0.563462            0.567795          0.568944         0.005011  "
      ]
     },
     "execution_count": 15,
     "metadata": {},
     "output_type": "execute_result"
    }
   ],
   "source": [
    "from sklearn.model_selection import GridSearchCV\n",
    "from scipy.stats import randint as sp_randint\n",
    "from sklearn.model_selection import RandomizedSearchCV\n",
    "from sklearn.naive_bayes import MultinomialNB\n",
    "import math\n",
    "\n",
    "model = MultinomialNB(fit_prior=False, class_prior=[0.5,0.5])\n",
    "parameters = {'alpha': [0.00001,0.0005, 0.0001,0.005,0.001,0.05,0.01,0.1,0.5,1,5,10,50,100]}\n",
    "clf = GridSearchCV(model, parameters, cv=3, scoring='roc_auc', n_jobs=-1,return_train_score=True)\n",
    "clf.fit(X_Train, Y_Train)\n",
    "\n",
    "results = pd.DataFrame.from_dict(clf.cv_results_)\n",
    "results = results.sort_values(['param_alpha'])\n",
    "\n",
    "train_auc= results['mean_train_score']\n",
    "cv_auc = results['mean_test_score'] \n",
    "alpha =  np.log10(results['param_alpha'].astype('float64'))\n",
    "\n",
    "plt.plot(alpha_, train_auc_, label='Train AUC')\n",
    "plt.plot(alpha_, cv_auc_, label='CV AUC')\n",
    "\n",
    "plt.scatter(alpha_, train_auc_, label='Train AUC points')\n",
    "plt.scatter(alpha_, cv_auc_, label='CV AUC points')\n",
    "\n",
    "\n",
    "plt.legend()\n",
    "plt.xlabel(\"log(alpha): hyperparameter\")\n",
    "plt.ylabel(\"AUC\")\n",
    "plt.title(\"Hyper parameter Vs AUC plot\")\n",
    "plt.grid()\n",
    "plt.show()\n",
    "\n",
    "results.head()"
   ]
  },
  {
   "cell_type": "markdown",
   "id": "eb64d4b5",
   "metadata": {},
   "source": [
    "### Train a model using Logistic Regression algorithm"
   ]
  },
  {
   "cell_type": "code",
   "execution_count": 16,
   "id": "d7cabb92",
   "metadata": {},
   "outputs": [],
   "source": [
    "from sklearn.metrics import roc_curve, auc\n",
    "lor= LogisticRegression(random_state=None,solver='lbfgs', max_iter=1000)\n",
    "#Training and Fitting model using Naive Bayes algorithm with trained data\n",
    "lor.fit(X_Train,Y_Train)\n",
    "#predicting the y values for all X values of testing data set\n",
    "Y_pred = pd.DataFrame(lor.predict(X_Test),columns=[\"Passed\"]) "
   ]
  },
  {
   "cell_type": "code",
   "execution_count": 17,
   "id": "878e4ff8",
   "metadata": {},
   "outputs": [
    {
     "name": "stdout",
     "output_type": "stream",
     "text": [
      "accuracy score of the given prediction values of y with testing values of y 0.8453333333333334\n"
     ]
    }
   ],
   "source": [
    "accuracy = accuracy_score(Y_Test, Y_pred) \n",
    "print(\"accuracy score of the given prediction values of y with testing values of y\",accuracy)"
   ]
  },
  {
   "cell_type": "markdown",
   "id": "2a86dcbf",
   "metadata": {},
   "source": [
    "#### ROC_AUC_Curve"
   ]
  },
  {
   "cell_type": "code",
   "execution_count": 18,
   "id": "f399bf7c",
   "metadata": {},
   "outputs": [
    {
     "data": {
      "image/png": "[encoded data removed]",
      "text/plain": [
       "<Figure size 432x288 with 1 Axes>"
      ]
     },
     "metadata": {
      "needs_background": "light"
     },
     "output_type": "display_data"
    },
    {
     "data": {
      "image/png": "[encoded data removed]",
      "text/plain": [
       "<Figure size 432x288 with 2 Axes>"
      ]
     },
     "metadata": {
      "needs_background": "light"
     },
     "output_type": "display_data"
    },
    {
     "data": {
      "image/png": "[encoded data removed]",
      "text/plain": [
       "<Figure size 432x288 with 2 Axes>"
      ]
     },
     "metadata": {
      "needs_background": "light"
     },
     "output_type": "display_data"
    }
   ],
   "source": [
    "y_train_pred = lor.predict_proba(X_Train)[:,1]   \n",
    "y_test_pred =  lor.predict_proba(X_Test)[:,1] \n",
    "train_fpr, train_tpr, tr_thresholds = roc_curve(Y_Train, y_train_pred)\n",
    "test_fpr, test_tpr, te_thresholds = roc_curve(Y_Test, y_test_pred)\n",
    "\n",
    "plt.plot(train_fpr, train_tpr, label=\"train AUC =\"+str(auc(train_fpr, train_tpr)))\n",
    "plt.plot(test_fpr, test_tpr, label=\"test AUC =\"+str(auc(test_fpr, test_tpr)))\n",
    "plt.legend()\n",
    "plt.xlabel(\"fpr\")\n",
    "plt.ylabel(\"tpr\")\n",
    "plt.title(\"ROC_AUC_Curve\")\n",
    "plt.grid()\n",
    "plt.show()\n",
    "\n",
    "x_axis_labels = ['Predicted: NO','Predicted: YES']\n",
    "y_axis_labels = ['Actual: NO','Actual: YES']\n",
    "sns.heatmap(confusion_matrix(Y_Train, lor.predict(X_Train)), annot=True,fmt=\"d\",cmap='Blues', xticklabels=x_axis_labels, yticklabels=y_axis_labels)\n",
    "plt.title('Train confusion matrix')\n",
    "plt.show()\n",
    "sns.heatmap(confusion_matrix(Y_Test,lor.predict(X_Test)), annot=True,fmt=\"d\",cmap='Blues', xticklabels=x_axis_labels, yticklabels=y_axis_labels)\n",
    "plt.title('Test confusion matrix')\n",
    "plt.show()"
   ]
  },
  {
   "cell_type": "markdown",
   "id": "524ef1b1",
   "metadata": {},
   "source": [
    "### HyperParameter tuning For Logistic regression"
   ]
  },
  {
   "cell_type": "code",
   "execution_count": 19,
   "id": "0c1ce71e",
   "metadata": {},
   "outputs": [
    {
     "data": {
      "text/plain": [
       "GridSearchCV(cv=10, estimator=LogisticRegression(),\n",
       "             param_grid={'C': array([1.e-03, 1.e-02, 1.e-01, 1.e+00, 1.e+01, 1.e+02, 1.e+03]),\n",
       "                         'penalty': ['l1', 'l2'],\n",
       "                         'solver': ['newton-cg', 'lbfgs', 'liblinear']},\n",
       "             scoring='accuracy')"
      ]
     },
     "execution_count": 19,
     "metadata": {},
     "output_type": "execute_result"
    }
   ],
   "source": [
    "parameters = {\n",
    "    'penalty' : ['l1','l2'], \n",
    "    'C'       : np.logspace(-3,3,7),\n",
    "    'solver'  : ['newton-cg', 'lbfgs', 'liblinear'],\n",
    "}\n",
    "\n",
    "logreg = LogisticRegression()\n",
    "clf = GridSearchCV(logreg,                   \n",
    "                   param_grid = parameters,   \n",
    "                   scoring='accuracy',        \n",
    "                   cv=10)\n",
    "clf.fit(X_Train,Y_Train)"
   ]
  },
  {
   "cell_type": "markdown",
   "id": "c0b2395a",
   "metadata": {},
   "source": [
    "#### Accuracy after Hyperparameter tuning"
   ]
  },
  {
   "cell_type": "code",
   "execution_count": 20,
   "id": "b5432a2c",
   "metadata": {},
   "outputs": [
    {
     "name": "stdout",
     "output_type": "stream",
     "text": [
      "Tuned Hyperparameters : {'C': 0.01, 'penalty': 'l1', 'solver': 'liblinear'}\n",
      "Accuracy after hyperparameter tuning : 0.8457611940298507\n"
     ]
    }
   ],
   "source": [
    "print(\"Tuned Hyperparameters :\", clf.best_params_)\n",
    "print(\"Accuracy after hyperparameter tuning :\",clf.best_score_)"
   ]
  },
  {
   "cell_type": "code",
   "execution_count": 21,
   "id": "bafb5e52",
   "metadata": {},
   "outputs": [
    {
     "data": {
      "image/png": "[encoded data removed]",
      "text/plain": [
       "<Figure size 432x288 with 2 Axes>"
      ]
     },
     "metadata": {
      "needs_background": "light"
     },
     "output_type": "display_data"
    }
   ],
   "source": [
    "x_axis_labels = ['Predicted: 0','Predicted: 1']\n",
    "y_axis_labels = ['Actual: 0','Actual: 1']\n",
    "sns.heatmap(confusion_matrix(Y_Test,Y_pred), annot=True,fmt=\"d\",cmap='coolwarm', xticklabels=x_axis_labels, yticklabels=y_axis_labels)\n",
    "plt.title('Confusion matrix')\n",
    "plt.show()"
   ]
  },
  {
   "cell_type": "code",
   "execution_count": 22,
   "id": "cfe1be2f",
   "metadata": {},
   "outputs": [],
   "source": [
    "C_Matrix=confusion_matrix(Y_Test,Y_pred)\n",
    "LAccuracy.append(Accuracy(C_Matrix))\n",
    "LPrecision.append(Precision(C_Matrix))\n",
    "LF1Score.append(F1Score(C_Matrix))\n",
    "LRecall.append(Recall(C_Matrix))\n",
    "LTrueSkillStatistic.append(TrueSkillStatistic(C_Matrix))\n",
    "LHeidkeSkillScore.append(HeidkeSkillScore(C_Matrix))\n",
    "LBalancedAccuracy.append(BalancedAccuracy(C_Matrix))\n",
    "LYoudenIndex.append(YoudenIndex(C_Matrix))"
   ]
  },
  {
   "cell_type": "markdown",
   "id": "9803cbfb",
   "metadata": {},
   "source": [
    "### Train a model using RandomForestClassifier"
   ]
  },
  {
   "cell_type": "code",
   "execution_count": 23,
   "id": "1f916714",
   "metadata": {},
   "outputs": [
    {
     "name": "stdout",
     "output_type": "stream",
     "text": [
      "\n",
      "ACCURACY OF THE MODEL:  0.8453333333333334\n"
     ]
    }
   ],
   "source": [
    "from sklearn.ensemble import RandomForestClassifier\n",
    "clf = RandomForestClassifier(n_estimators = 100) \n",
    " \n",
    "# Training the model on the training dataset\n",
    "# fit function is used to train the model using the training sets as parameters\n",
    "clf.fit(X_Train, Y_Train)\n",
    " \n",
    "# performing predictions on the test dataset\n",
    "y_pred = clf.predict(X_Test)\n",
    " \n",
    "# metrics are used to find accuracy or error\n",
    "from sklearn import metrics \n",
    "print()\n",
    " \n",
    "# using metrics module for accuracy calculation\n",
    "print(\"ACCURACY OF THE MODEL: \", metrics.accuracy_score(Y_Test, Y_pred))"
   ]
  },
  {
   "cell_type": "code",
   "execution_count": 24,
   "id": "345860a8",
   "metadata": {},
   "outputs": [
    {
     "data": {
      "image/png": "[encoded data removed]",
      "text/plain": [
       "<Figure size 432x288 with 2 Axes>"
      ]
     },
     "metadata": {
      "needs_background": "light"
     },
     "output_type": "display_data"
    }
   ],
   "source": [
    "x_axis_labels = ['Predicted: 0','Predicted: 1']\n",
    "y_axis_labels = ['Actual: 0','Actual: 1']\n",
    "sns.heatmap(confusion_matrix(Y_Test,Y_pred), annot=True,fmt=\"d\",cmap='coolwarm', xticklabels=x_axis_labels, yticklabels=y_axis_labels)\n",
    "plt.title('Confusion matrix')\n",
    "plt.show()"
   ]
  },
  {
   "cell_type": "code",
   "execution_count": 25,
   "id": "707fd5ab",
   "metadata": {},
   "outputs": [],
   "source": [
    "C_Matrix=confusion_matrix(Y_Test,Y_pred)\n",
    "LAccuracy.append(Accuracy(C_Matrix))\n",
    "LPrecision.append(Precision(C_Matrix))\n",
    "LF1Score.append(F1Score(C_Matrix))\n",
    "LRecall.append(Recall(C_Matrix))\n",
    "LTrueSkillStatistic.append(TrueSkillStatistic(C_Matrix))\n",
    "LHeidkeSkillScore.append(HeidkeSkillScore(C_Matrix))\n",
    "LBalancedAccuracy.append(BalancedAccuracy(C_Matrix))\n",
    "LYoudenIndex.append(YoudenIndex(C_Matrix))"
   ]
  },
  {
   "cell_type": "markdown",
   "id": "dbf1b831",
   "metadata": {},
   "source": [
    "### Train a model using AdaBoostClassifier"
   ]
  },
  {
   "cell_type": "code",
   "execution_count": 26,
   "id": "f478c505",
   "metadata": {},
   "outputs": [
    {
     "name": "stdout",
     "output_type": "stream",
     "text": [
      "Accuracy of our model is equal  0.8453333333333334\n"
     ]
    }
   ],
   "source": [
    "from sklearn.ensemble import AdaBoostClassifier\n",
    "abc = AdaBoostClassifier(n_estimators=50,\n",
    "                         learning_rate=1)\n",
    "# Train Adaboost Classifer\n",
    "model = abc.fit(X_Train, Y_Train)\n",
    "\n",
    "#Predict the response for test dataset\n",
    "Y_Pred = model.predict(X_Test)\n",
    "accuracy = accuracy_score(Y_Test, Y_pred)\n",
    "print('Accuracy of our model is equal ',accuracy)"
   ]
  },
  {
   "cell_type": "code",
   "execution_count": 27,
   "id": "836619d8",
   "metadata": {},
   "outputs": [
    {
     "data": {
      "image/png": "[encoded data removed]",
      "text/plain": [
       "<Figure size 432x288 with 2 Axes>"
      ]
     },
     "metadata": {
      "needs_background": "light"
     },
     "output_type": "display_data"
    }
   ],
   "source": [
    "x_axis_labels = ['Predicted: 0','Predicted: 1']\n",
    "y_axis_labels = ['Actual: 0','Actual: 1']\n",
    "sns.heatmap(confusion_matrix(Y_Test,Y_pred), annot=True,fmt=\"d\",cmap='coolwarm', xticklabels=x_axis_labels, yticklabels=y_axis_labels)\n",
    "plt.title('Confusion matrix')\n",
    "plt.show()"
   ]
  },
  {
   "cell_type": "code",
   "execution_count": 28,
   "id": "a3140274",
   "metadata": {},
   "outputs": [],
   "source": [
    "C_Matrix=confusion_matrix(Y_Test,Y_pred)\n",
    "LAccuracy.append(Accuracy(C_Matrix))\n",
    "LPrecision.append(Precision(C_Matrix))\n",
    "LF1Score.append(F1Score(C_Matrix))\n",
    "LRecall.append(Recall(C_Matrix))\n",
    "LTrueSkillStatistic.append(TrueSkillStatistic(C_Matrix))\n",
    "LHeidkeSkillScore.append(HeidkeSkillScore(C_Matrix))\n",
    "LBalancedAccuracy.append(BalancedAccuracy(C_Matrix))\n",
    "LYoudenIndex.append(YoudenIndex(C_Matrix))"
   ]
  },
  {
   "cell_type": "markdown",
   "id": "baf47932",
   "metadata": {},
   "source": [
    "### Train a model using KNeighborsClassifier"
   ]
  },
  {
   "cell_type": "code",
   "execution_count": 29,
   "id": "f31f8e14",
   "metadata": {},
   "outputs": [
    {
     "name": "stdout",
     "output_type": "stream",
     "text": [
      "Accuracy of our model is equal  0.8018181818181818\n"
     ]
    }
   ],
   "source": [
    "from sklearn.neighbors import KNeighborsClassifier\n",
    "KNN_model = KNeighborsClassifier(n_neighbors=3)\n",
    "KNN_model\n",
    "KNN_model.fit(X_Train, Y_Train)\n",
    "Y_pred = KNN_model.predict(X_Test)\n",
    "accuracy = accuracy_score(Y_Test, Y_pred)\n",
    "print('Accuracy of our model is equal ',accuracy)"
   ]
  },
  {
   "cell_type": "code",
   "execution_count": 30,
   "id": "f378e090",
   "metadata": {},
   "outputs": [
    {
     "data": {
      "image/png": "[encoded data removed]",
      "text/plain": [
       "<Figure size 432x288 with 2 Axes>"
      ]
     },
     "metadata": {
      "needs_background": "light"
     },
     "output_type": "display_data"
    }
   ],
   "source": [
    "x_axis_labels = ['Predicted: 0','Predicted: 1']\n",
    "y_axis_labels = ['Actual: 0','Actual: 1']\n",
    "sns.heatmap(confusion_matrix(Y_Test,Y_pred), annot=True,fmt=\"d\",cmap='coolwarm', xticklabels=x_axis_labels, yticklabels=y_axis_labels)\n",
    "plt.title('Confusion matrix')\n",
    "plt.show()"
   ]
  },
  {
   "cell_type": "code",
   "execution_count": 31,
   "id": "643ee179",
   "metadata": {},
   "outputs": [],
   "source": [
    "C_Matrix=confusion_matrix(Y_Test,Y_pred)\n",
    "LAccuracy.append(Accuracy(C_Matrix))\n",
    "LPrecision.append(Precision(C_Matrix))\n",
    "LF1Score.append(F1Score(C_Matrix))\n",
    "LRecall.append(Recall(C_Matrix))\n",
    "LTrueSkillStatistic.append(TrueSkillStatistic(C_Matrix))\n",
    "LHeidkeSkillScore.append(HeidkeSkillScore(C_Matrix))\n",
    "LBalancedAccuracy.append(BalancedAccuracy(C_Matrix))\n",
    "LYoudenIndex.append(YoudenIndex(C_Matrix))"
   ]
  },
  {
   "cell_type": "code",
   "execution_count": 32,
   "id": "80f76935",
   "metadata": {},
   "outputs": [],
   "source": [
    "zipped = list(zip(LAccuracy,LPrecision,LF1Score,LRecall,LTrueSkillStatistic,LHeidkeSkillScore,LBalancedAccuracy,LYoudenIndex))\n"
   ]
  },
  {
   "cell_type": "code",
   "execution_count": 33,
   "id": "ed0273ea",
   "metadata": {},
   "outputs": [],
   "source": [
    "Comparison=pd.DataFrame(zipped, columns=['Accuracy','Precision','F1Score','Recall','TrueSkillStatistic','HeidkeSkillScore','BalancedAccuracy','YoudenIndex'],index=['GaussianNB',' Logistic Regression','RandomForest','AdaBoost','KNeighbors'])"
   ]
  },
  {
   "cell_type": "code",
   "execution_count": 34,
   "id": "903c7420",
   "metadata": {},
   "outputs": [
    {
     "data": {
      "text/html": [
       "<div>\n",
       "<style scoped>\n",
       "    .dataframe tbody tr th:only-of-type {\n",
       "        vertical-align: middle;\n",
       "    }\n",
       "\n",
       "    .dataframe tbody tr th {\n",
       "        vertical-align: top;\n",
       "    }\n",
       "\n",
       "    .dataframe thead th {\n",
       "        text-align: right;\n",
       "    }\n",
       "</style>\n",
       "<table border=\"1\" class=\"dataframe\">\n",
       "  <thead>\n",
       "    <tr style=\"text-align: right;\">\n",
       "      <th></th>\n",
       "      <th>Accuracy</th>\n",
       "      <th>Precision</th>\n",
       "      <th>F1Score</th>\n",
       "      <th>Recall</th>\n",
       "      <th>TrueSkillStatistic</th>\n",
       "      <th>HeidkeSkillScore</th>\n",
       "      <th>BalancedAccuracy</th>\n",
       "      <th>YoudenIndex</th>\n",
       "    </tr>\n",
       "  </thead>\n",
       "  <tbody>\n",
       "    <tr>\n",
       "      <th>GaussianNB</th>\n",
       "      <td>0.845394</td>\n",
       "      <td>0.845860</td>\n",
       "      <td>0.916193</td>\n",
       "      <td>0.999283</td>\n",
       "      <td>0.001247</td>\n",
       "      <td>0.002101</td>\n",
       "      <td>0.422697</td>\n",
       "      <td>0.001247</td>\n",
       "    </tr>\n",
       "    <tr>\n",
       "      <th>Logistic Regression</th>\n",
       "      <td>0.845333</td>\n",
       "      <td>0.845892</td>\n",
       "      <td>0.916152</td>\n",
       "      <td>0.999140</td>\n",
       "      <td>0.001497</td>\n",
       "      <td>0.002519</td>\n",
       "      <td>0.422667</td>\n",
       "      <td>0.001497</td>\n",
       "    </tr>\n",
       "    <tr>\n",
       "      <th>RandomForest</th>\n",
       "      <td>0.845333</td>\n",
       "      <td>0.845892</td>\n",
       "      <td>0.916152</td>\n",
       "      <td>0.999140</td>\n",
       "      <td>0.001497</td>\n",
       "      <td>0.002519</td>\n",
       "      <td>0.422667</td>\n",
       "      <td>0.001497</td>\n",
       "    </tr>\n",
       "    <tr>\n",
       "      <th>AdaBoost</th>\n",
       "      <td>0.845333</td>\n",
       "      <td>0.845892</td>\n",
       "      <td>0.916152</td>\n",
       "      <td>0.999140</td>\n",
       "      <td>0.001497</td>\n",
       "      <td>0.002519</td>\n",
       "      <td>0.422667</td>\n",
       "      <td>0.001497</td>\n",
       "    </tr>\n",
       "    <tr>\n",
       "      <th>KNeighbors</th>\n",
       "      <td>0.801818</td>\n",
       "      <td>0.847786</td>\n",
       "      <td>0.888449</td>\n",
       "      <td>0.933209</td>\n",
       "      <td>0.014906</td>\n",
       "      <td>0.019252</td>\n",
       "      <td>0.400909</td>\n",
       "      <td>0.014906</td>\n",
       "    </tr>\n",
       "  </tbody>\n",
       "</table>\n",
       "</div>"
      ],
      "text/plain": [
       "                      Accuracy  Precision   F1Score    Recall  \\\n",
       "GaussianNB            0.845394   0.845860  0.916193  0.999283   \n",
       " Logistic Regression  0.845333   0.845892  0.916152  0.999140   \n",
       "RandomForest          0.845333   0.845892  0.916152  0.999140   \n",
       "AdaBoost              0.845333   0.845892  0.916152  0.999140   \n",
       "KNeighbors            0.801818   0.847786  0.888449  0.933209   \n",
       "\n",
       "                      TrueSkillStatistic  HeidkeSkillScore  BalancedAccuracy  \\\n",
       "GaussianNB                      0.001247          0.002101          0.422697   \n",
       " Logistic Regression            0.001497          0.002519          0.422667   \n",
       "RandomForest                    0.001497          0.002519          0.422667   \n",
       "AdaBoost                        0.001497          0.002519          0.422667   \n",
       "KNeighbors                      0.014906          0.019252          0.400909   \n",
       "\n",
       "                      YoudenIndex  \n",
       "GaussianNB               0.001247  \n",
       " Logistic Regression     0.001497  \n",
       "RandomForest             0.001497  \n",
       "AdaBoost                 0.001497  \n",
       "KNeighbors               0.014906  "
      ]
     },
     "execution_count": 34,
     "metadata": {},
     "output_type": "execute_result"
    }
   ],
   "source": [
    "#df with all evaluation metrics for every model\n",
    "Comparison"
   ]
  },
  {
   "cell_type": "markdown",
   "id": "b3e654d9",
   "metadata": {},
   "source": [
    "### Visualising and Comparing Evaluation Metric Values for Every Model"
   ]
  },
  {
   "cell_type": "code",
   "execution_count": 35,
   "id": "b94d7da5",
   "metadata": {},
   "outputs": [
    {
     "data": {
      "text/plain": [
       "<AxesSubplot:>"
      ]
     },
     "execution_count": 35,
     "metadata": {},
     "output_type": "execute_result"
    },
    {
     "data": {
      "image/png": "[encoded data removed]",
      "text/plain": [
       "<Figure size 936x576 with 1 Axes>"
      ]
     },
     "metadata": {
      "needs_background": "light"
     },
     "output_type": "display_data"
    }
   ],
   "source": [
    "Comparison.plot.line(figsize=(13,8))"
   ]
  },
  {
   "cell_type": "code",
   "execution_count": 36,
   "id": "f9fba72c",
   "metadata": {},
   "outputs": [
    {
     "data": {
      "image/png": "[encoded data removed]",
      "text/plain": [
       "<Figure size 720x720 with 8 Axes>"
      ]
     },
     "metadata": {
      "needs_background": "light"
     },
     "output_type": "display_data"
    }
   ],
   "source": [
    "axes = Comparison.plot.line(subplots=True,figsize=(10,10))"
   ]
  },
  {
   "cell_type": "code",
   "execution_count": 37,
   "id": "b8954a78",
   "metadata": {},
   "outputs": [
    {
     "data": {
      "text/plain": [
       "<AxesSubplot:xlabel='index'>"
      ]
     },
     "execution_count": 37,
     "metadata": {},
     "output_type": "execute_result"
    },
    {
     "data": {
      "image/png": "[encoded data removed]",
      "text/plain": [
       "<Figure size 432x288 with 1 Axes>"
      ]
     },
     "metadata": {
      "needs_background": "light"
     },
     "output_type": "display_data"
    }
   ],
   "source": [
    "Comparison.reset_index().plot.line(x='index', y='Accuracy')"
   ]
  },
  {
   "cell_type": "code",
   "execution_count": 38,
   "id": "ab82ec3c",
   "metadata": {},
   "outputs": [
    {
     "data": {
      "text/plain": [
       "<AxesSubplot:xlabel='index'>"
      ]
     },
     "execution_count": 38,
     "metadata": {},
     "output_type": "execute_result"
    },
    {
     "data": {
      "image/png": "[encoded data removed]",
      "text/plain": [
       "<Figure size 432x288 with 1 Axes>"
      ]
     },
     "metadata": {
      "needs_background": "light"
     },
     "output_type": "display_data"
    }
   ],
   "source": [
    "Comparison.reset_index().plot.line(x='index', y='Precision')"
   ]
  },
  {
   "cell_type": "code",
   "execution_count": 39,
   "id": "cd7e1a6b",
   "metadata": {},
   "outputs": [
    {
     "data": {
      "text/plain": [
       "<AxesSubplot:xlabel='index'>"
      ]
     },
     "execution_count": 39,
     "metadata": {},
     "output_type": "execute_result"
    },
    {
     "data": {
      "image/png": "[encoded data removed]",
      "text/plain": [
       "<Figure size 432x288 with 1 Axes>"
      ]
     },
     "metadata": {
      "needs_background": "light"
     },
     "output_type": "display_data"
    }
   ],
   "source": [
    "Comparison.reset_index().plot.line(x='index', y='F1Score')"
   ]
  },
  {
   "cell_type": "code",
   "execution_count": 40,
   "id": "eb4a86cb",
   "metadata": {},
   "outputs": [
    {
     "data": {
      "text/plain": [
       "<AxesSubplot:xlabel='index'>"
      ]
     },
     "execution_count": 40,
     "metadata": {},
     "output_type": "execute_result"
    },
    {
     "data": {
      "image/png": "[encoded data removed]",
      "text/plain": [
       "<Figure size 432x288 with 1 Axes>"
      ]
     },
     "metadata": {
      "needs_background": "light"
     },
     "output_type": "display_data"
    }
   ],
   "source": [
    "Comparison.reset_index().plot.line(x='index', y='Recall')"
   ]
  },
  {
   "cell_type": "code",
   "execution_count": 41,
   "id": "abdbbaa3",
   "metadata": {},
   "outputs": [
    {
     "data": {
      "text/plain": [
       "<AxesSubplot:xlabel='index'>"
      ]
     },
     "execution_count": 41,
     "metadata": {},
     "output_type": "execute_result"
    },
    {
     "data": {
      "image/png": "[encoded data removed]",
      "text/plain": [
       "<Figure size 432x288 with 1 Axes>"
      ]
     },
     "metadata": {
      "needs_background": "light"
     },
     "output_type": "display_data"
    }
   ],
   "source": [
    "Comparison.reset_index().plot.line(x='index', y='TrueSkillStatistic')"
   ]
  },
  {
   "cell_type": "code",
   "execution_count": 42,
   "id": "1662e5ae",
   "metadata": {},
   "outputs": [
    {
     "data": {
      "text/plain": [
       "<AxesSubplot:xlabel='index'>"
      ]
     },
     "execution_count": 42,
     "metadata": {},
     "output_type": "execute_result"
    },
    {
     "data": {
      "image/png": "[encoded data removed]",
      "text/plain": [
       "<Figure size 432x288 with 1 Axes>"
      ]
     },
     "metadata": {
      "needs_background": "light"
     },
     "output_type": "display_data"
    }
   ],
   "source": [
    "Comparison.reset_index().plot.line(x='index', y='HeidkeSkillScore')"
   ]
  },
  {
   "cell_type": "code",
   "execution_count": 43,
   "id": "18d7eaac",
   "metadata": {},
   "outputs": [
    {
     "data": {
      "text/plain": [
       "<AxesSubplot:xlabel='index'>"
      ]
     },
     "execution_count": 43,
     "metadata": {},
     "output_type": "execute_result"
    },
    {
     "data": {
      "image/png": "[encoded data removed]",
      "text/plain": [
       "<Figure size 432x288 with 1 Axes>"
      ]
     },
     "metadata": {
      "needs_background": "light"
     },
     "output_type": "display_data"
    }
   ],
   "source": [
    "Comparison.reset_index().plot.line(x='index', y='BalancedAccuracy')"
   ]
  },
  {
   "cell_type": "code",
   "execution_count": 44,
   "id": "b8a34927",
   "metadata": {},
   "outputs": [
    {
     "data": {
      "text/plain": [
       "<AxesSubplot:xlabel='index'>"
      ]
     },
     "execution_count": 44,
     "metadata": {},
     "output_type": "execute_result"
    },
    {
     "data": {
      "image/png": "[encoded data removed]",
      "text/plain": [
       "<Figure size 432x288 with 1 Axes>"
      ]
     },
     "metadata": {
      "needs_background": "light"
     },
     "output_type": "display_data"
    }
   ],
   "source": [
    "Comparison.reset_index().plot.line(x='index', y='YoudenIndex')"
   ]
  },
  {
   "cell_type": "code",
   "execution_count": null,
   "id": "a89bb5d4",
   "metadata": {},
   "outputs": [],
   "source": []
  }
 ],
 "metadata": {
  "kernelspec": {
   "display_name": "Python 3 (ipykernel)",
   "language": "python",
   "name": "python3"
  },
  "language_info": {
   "codemirror_mode": {
    "name": "ipython",
    "version": 3
   },
   "file_extension": ".py",
   "mimetype": "text/x-python",
   "name": "python",
   "nbconvert_exporter": "python",
   "pygments_lexer": "ipython3",
   "version": "3.9.7"
  }
 },
 "nbformat": 4,
 "nbformat_minor": 5
}
